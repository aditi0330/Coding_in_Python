{
  "nbformat": 4,
  "nbformat_minor": 0,
  "metadata": {
    "colab": {
      "name": "list-comprehension-generators.ipynb",
      "provenance": []
    },
    "kernelspec": {
      "name": "python3",
      "display_name": "Python 3"
    }
  },
  "cells": [
    {
      "cell_type": "code",
      "metadata": {
        "id": "EAzgYadTtfii",
        "colab_type": "code",
        "colab": {}
      },
      "source": [
        "from collections import Counter\n",
        "import calendar\n",
        "import itertools\n",
        "import random\n",
        "import re\n",
        "import string\n",
        "\n",
        "import requests"
      ],
      "execution_count": 0,
      "outputs": []
    },
    {
      "cell_type": "markdown",
      "metadata": {
        "id": "K4P0Zx90trOF",
        "colab_type": "text"
      },
      "source": [
        "**List** **comprehension**"
      ]
    },
    {
      "cell_type": "code",
      "metadata": {
        "id": "HD1_wbZAtuyU",
        "colab_type": "code",
        "colab": {
          "base_uri": "https://localhost:8080/",
          "height": 34
        },
        "outputId": "0d60a016-cf86-46a0-9b12-92b5e0022507"
      },
      "source": [
        "names = 'pybites mike bob julian tim sara guido'.split()\n",
        "names"
      ],
      "execution_count": 1,
      "outputs": [
        {
          "output_type": "execute_result",
          "data": {
            "text/plain": [
              "['pybites', 'mike', 'bob', 'julian', 'tim', 'sara', 'guido']"
            ]
          },
          "metadata": {
            "tags": []
          },
          "execution_count": 1
        }
      ]
    },
    {
      "cell_type": "code",
      "metadata": {
        "id": "mSdoixmQuDze",
        "colab_type": "code",
        "colab": {
          "base_uri": "https://localhost:8080/",
          "height": 134
        },
        "outputId": "0fbf73a5-4be6-4a07-9976-210f39604c47"
      },
      "source": [
        "for name in names:\n",
        "    print(name.title())"
      ],
      "execution_count": 2,
      "outputs": [
        {
          "output_type": "stream",
          "text": [
            "Pybites\n",
            "Mike\n",
            "Bob\n",
            "Julian\n",
            "Tim\n",
            "Sara\n",
            "Guido\n"
          ],
          "name": "stdout"
        }
      ]
    },
    {
      "cell_type": "markdown",
      "metadata": {
        "id": "aOuysxLluJA-",
        "colab_type": "text"
      },
      "source": [
        "Then I want to only keep the names that start with A-M, the strings module makes it easier:"
      ]
    },
    {
      "cell_type": "code",
      "metadata": {
        "id": "dQfizMwIuNk-",
        "colab_type": "code",
        "colab": {
          "base_uri": "https://localhost:8080/",
          "height": 34
        },
        "outputId": "b373ab0e-cc56-4ce1-dd62-6fbfcddd6048"
      },
      "source": [
        "first_half_alphabet = list(string.ascii_lowercase)[:13]\n",
        "first_half_alphabet"
      ],
      "execution_count": 6,
      "outputs": [
        {
          "output_type": "execute_result",
          "data": {
            "text/plain": [
              "['a', 'b', 'c', 'd', 'e', 'f', 'g', 'h', 'i', 'j', 'k', 'l', 'm']"
            ]
          },
          "metadata": {
            "tags": []
          },
          "execution_count": 6
        }
      ]
    },
    {
      "cell_type": "code",
      "metadata": {
        "id": "7Lxq8jCwu0BK",
        "colab_type": "code",
        "colab": {
          "base_uri": "https://localhost:8080/",
          "height": 34
        },
        "outputId": "7c622d20-45ca-4ae6-9441-6c396511bc38"
      },
      "source": [
        "new_names = []\n",
        "for name in names:\n",
        "    if name[0] in first_half_alphabet:\n",
        "        new_names.append(name.title())\n",
        "new_names"
      ],
      "execution_count": 7,
      "outputs": [
        {
          "output_type": "execute_result",
          "data": {
            "text/plain": [
              "['Mike', 'Bob', 'Julian', 'Guido']"
            ]
          },
          "metadata": {
            "tags": []
          },
          "execution_count": 7
        }
      ]
    },
    {
      "cell_type": "code",
      "metadata": {
        "id": "0-mTFX4DvFJi",
        "colab_type": "code",
        "colab": {
          "base_uri": "https://localhost:8080/",
          "height": 34
        },
        "outputId": "c0a24b1b-00d7-42c9-e2d1-5af375d2f84c"
      },
      "source": [
        "new_names2 = [name.title() for name in names if name[0] in first_half_alphabet]\n",
        "new_names2"
      ],
      "execution_count": 8,
      "outputs": [
        {
          "output_type": "execute_result",
          "data": {
            "text/plain": [
              "['Mike', 'Bob', 'Julian', 'Guido']"
            ]
          },
          "metadata": {
            "tags": []
          },
          "execution_count": 8
        }
      ]
    },
    {
      "cell_type": "code",
      "metadata": {
        "id": "6RujmSBivJAv",
        "colab_type": "code",
        "colab": {}
      },
      "source": [
        "assert new_names == new_names2"
      ],
      "execution_count": 0,
      "outputs": []
    },
    {
      "cell_type": "code",
      "metadata": {
        "id": "CTnly3g6vRTS",
        "colab_type": "code",
        "colab": {
          "base_uri": "https://localhost:8080/",
          "height": 34
        },
        "outputId": "aaa4a517-1f3e-4f4e-e3ba-bd92de2b7862"
      },
      "source": [
        "resp = requests.get('http://projects.bobbelderbos.com/pcc/harry.txt')\n",
        "words = resp.text.lower().split()\n",
        "words[:5]"
      ],
      "execution_count": 10,
      "outputs": [
        {
          "output_type": "execute_result",
          "data": {
            "text/plain": [
              "['the', 'boy', 'who', 'lived', 'mr.']"
            ]
          },
          "metadata": {
            "tags": []
          },
          "execution_count": 10
        }
      ]
    },
    {
      "cell_type": "code",
      "metadata": {
        "id": "vfThIDgavZaY",
        "colab_type": "code",
        "colab": {
          "base_uri": "https://localhost:8080/",
          "height": 34
        },
        "outputId": "a6600ebe-8a21-4aa0-a43d-e5695493f6c2"
      },
      "source": [
        "cnt = Counter(words)\n",
        "cnt.most_common(5)"
      ],
      "execution_count": 11,
      "outputs": [
        {
          "output_type": "execute_result",
          "data": {
            "text/plain": [
              "[('the', 202), ('he', 136), ('a', 108), ('and', 100), ('to', 93)]"
            ]
          },
          "metadata": {
            "tags": []
          },
          "execution_count": 11
        }
      ]
    },
    {
      "cell_type": "markdown",
      "metadata": {
        "id": "UnHxxj75wtIz",
        "colab_type": "text"
      },
      "source": [
        "\n",
        "We should not count stopwords, also:"
      ]
    },
    {
      "cell_type": "code",
      "metadata": {
        "id": "Bfsp6VTVwvsl",
        "colab_type": "code",
        "colab": {
          "base_uri": "https://localhost:8080/",
          "height": 34
        },
        "outputId": "f5070f85-1351-411a-c70b-c14e2209e746"
      },
      "source": [
        "'-' in words"
      ],
      "execution_count": 12,
      "outputs": [
        {
          "output_type": "execute_result",
          "data": {
            "text/plain": [
              "True"
            ]
          },
          "metadata": {
            "tags": []
          },
          "execution_count": 12
        }
      ]
    },
    {
      "cell_type": "markdown",
      "metadata": {
        "id": "m0wfhTCkw1Ue",
        "colab_type": "text"
      },
      "source": [
        "Let's first clean up any non-alphabetic characters here:"
      ]
    },
    {
      "cell_type": "code",
      "metadata": {
        "id": "RKVtdzxRw2WV",
        "colab_type": "code",
        "colab": {
          "base_uri": "https://localhost:8080/",
          "height": 34
        },
        "outputId": "291d01be-eaa7-46ae-cd80-0a5b9ae2396f"
      },
      "source": [
        "words = [re.sub(r'\\W+', r'', word) for word in words]\n",
        "\n",
        "'-' in words"
      ],
      "execution_count": 13,
      "outputs": [
        {
          "output_type": "execute_result",
          "data": {
            "text/plain": [
              "False"
            ]
          },
          "metadata": {
            "tags": []
          },
          "execution_count": 13
        }
      ]
    },
    {
      "cell_type": "code",
      "metadata": {
        "id": "yYjt07l9xCG2",
        "colab_type": "code",
        "colab": {
          "base_uri": "https://localhost:8080/",
          "height": 34
        },
        "outputId": "ada3988f-0293-484a-e4b7-5b6f00f6eaee"
      },
      "source": [
        "'the' in words"
      ],
      "execution_count": 14,
      "outputs": [
        {
          "output_type": "execute_result",
          "data": {
            "text/plain": [
              "True"
            ]
          },
          "metadata": {
            "tags": []
          },
          "execution_count": 14
        }
      ]
    },
    {
      "cell_type": "markdown",
      "metadata": {
        "id": "RgbzKL0fxDPn",
        "colab_type": "text"
      },
      "source": [
        "Now we will filter those stopwords out, plus the empty strings caused by the previous list comprehension:"
      ]
    },
    {
      "cell_type": "code",
      "metadata": {
        "id": "-8fW94VsxJk9",
        "colab_type": "code",
        "colab": {
          "base_uri": "https://localhost:8080/",
          "height": 34
        },
        "outputId": "96fb1dd6-8ec1-4e0a-8c3a-9076bd73a359"
      },
      "source": [
        "resp = requests.get('http://projects.bobbelderbos.com/pcc/stopwords.txt')\n",
        "stopwords = resp.text.lower().split()\n",
        "stopwords[:5]"
      ],
      "execution_count": 15,
      "outputs": [
        {
          "output_type": "execute_result",
          "data": {
            "text/plain": [
              "['a', 'about', 'above', 'across', 'after']"
            ]
          },
          "metadata": {
            "tags": []
          },
          "execution_count": 15
        }
      ]
    },
    {
      "cell_type": "code",
      "metadata": {
        "id": "K0EYkZ60xTSF",
        "colab_type": "code",
        "colab": {
          "base_uri": "https://localhost:8080/",
          "height": 34
        },
        "outputId": "c8fa33d1-4284-4772-fdc0-005bb6bf0d14"
      },
      "source": [
        "words = [word for word in words if word.strip() and word not in stopwords]\n",
        "words[:5]"
      ],
      "execution_count": 16,
      "outputs": [
        {
          "output_type": "execute_result",
          "data": {
            "text/plain": [
              "['boy', 'lived', 'mr', 'mrs', 'dursley']"
            ]
          },
          "metadata": {
            "tags": []
          },
          "execution_count": 16
        }
      ]
    },
    {
      "cell_type": "code",
      "metadata": {
        "id": "eAM-8u2txYPi",
        "colab_type": "code",
        "colab": {
          "base_uri": "https://localhost:8080/",
          "height": 34
        },
        "outputId": "4232fc19-120b-4ec1-d9f3-e9001ab59ca9"
      },
      "source": [
        "'the' in words"
      ],
      "execution_count": 17,
      "outputs": [
        {
          "output_type": "execute_result",
          "data": {
            "text/plain": [
              "False"
            ]
          },
          "metadata": {
            "tags": []
          },
          "execution_count": 17
        }
      ]
    },
    {
      "cell_type": "code",
      "metadata": {
        "id": "ZH2ca5JIxc9i",
        "colab_type": "code",
        "colab": {
          "base_uri": "https://localhost:8080/",
          "height": 101
        },
        "outputId": "408ab8c9-a13d-4a20-9e88-811aaae9b986"
      },
      "source": [
        "cnt = Counter(words)\n",
        "cnt.most_common(5)"
      ],
      "execution_count": 18,
      "outputs": [
        {
          "output_type": "execute_result",
          "data": {
            "text/plain": [
              "[('dursley', 45),\n",
              " ('dumbledore', 35),\n",
              " ('said', 32),\n",
              " ('mr', 30),\n",
              " ('professor', 30)]"
            ]
          },
          "metadata": {
            "tags": []
          },
          "execution_count": 18
        }
      ]
    },
    {
      "cell_type": "markdown",
      "metadata": {
        "id": "BmgZ8T36xy2P",
        "colab_type": "text"
      },
      "source": [
        "**Generators**"
      ]
    },
    {
      "cell_type": "markdown",
      "metadata": {
        "id": "6HqKln2Qx4J2",
        "colab_type": "text"
      },
      "source": [
        "A generator is a function that returns an iterator. It generates values using the yield keyword, when called with next() (a for loop does this implicitly), and it raises a StopIteration exception when there are no more values to generate. Let's see what this means with a very simple example:"
      ]
    },
    {
      "cell_type": "code",
      "metadata": {
        "id": "22sZK88kx1P3",
        "colab_type": "code",
        "colab": {}
      },
      "source": [
        "def num_gen():\n",
        "    for i in range(5):\n",
        "        yield i\n",
        "        \n",
        "gen = num_gen()"
      ],
      "execution_count": 0,
      "outputs": []
    },
    {
      "cell_type": "code",
      "metadata": {
        "id": "qKH91hlVyEf0",
        "colab_type": "code",
        "colab": {
          "base_uri": "https://localhost:8080/",
          "height": 34
        },
        "outputId": "55b92d9b-7040-424c-86cb-eb87333cadce"
      },
      "source": [
        "next(gen)"
      ],
      "execution_count": 20,
      "outputs": [
        {
          "output_type": "execute_result",
          "data": {
            "text/plain": [
              "0"
            ]
          },
          "metadata": {
            "tags": []
          },
          "execution_count": 20
        }
      ]
    },
    {
      "cell_type": "code",
      "metadata": {
        "id": "mWbRJT5fyL8K",
        "colab_type": "code",
        "colab": {
          "base_uri": "https://localhost:8080/",
          "height": 84
        },
        "outputId": "61a97d1b-f843-4816-e3cb-0c95e43a5f31"
      },
      "source": [
        "# It takes off where we left it in the last statement\n",
        "for i in gen:\n",
        "    print(i)"
      ],
      "execution_count": 21,
      "outputs": [
        {
          "output_type": "stream",
          "text": [
            "1\n",
            "2\n",
            "3\n",
            "4\n"
          ],
          "name": "stdout"
        }
      ]
    },
    {
      "cell_type": "code",
      "metadata": {
        "id": "_xIt3eSryPXn",
        "colab_type": "code",
        "colab": {
          "base_uri": "https://localhost:8080/",
          "height": 162
        },
        "outputId": "4b77d5ed-eade-4374-a127-cfdf10c59308"
      },
      "source": [
        "# There are no more values to generate\n",
        "next(gen)"
      ],
      "execution_count": 22,
      "outputs": [
        {
          "output_type": "error",
          "ename": "StopIteration",
          "evalue": "ignored",
          "traceback": [
            "\u001b[0;31m---------------------------------------------------------------------------\u001b[0m",
            "\u001b[0;31mStopIteration\u001b[0m                             Traceback (most recent call last)",
            "\u001b[0;32m<ipython-input-22-6e72e47198db>\u001b[0m in \u001b[0;36m<module>\u001b[0;34m()\u001b[0m\n\u001b[0;32m----> 1\u001b[0;31m \u001b[0mnext\u001b[0m\u001b[0;34m(\u001b[0m\u001b[0mgen\u001b[0m\u001b[0;34m)\u001b[0m\u001b[0;34m\u001b[0m\u001b[0;34m\u001b[0m\u001b[0m\n\u001b[0m",
            "\u001b[0;31mStopIteration\u001b[0m: "
          ]
        }
      ]
    },
    {
      "cell_type": "code",
      "metadata": {
        "id": "3Qwlt6cbybcG",
        "colab_type": "code",
        "colab": {}
      },
      "source": [
        "\n",
        "# for catches the exception for us\n",
        "for i in gen:\n",
        "    print(i)"
      ],
      "execution_count": 0,
      "outputs": []
    },
    {
      "cell_type": "code",
      "metadata": {
        "id": "qgSfdvvSyukk",
        "colab_type": "code",
        "colab": {
          "base_uri": "https://localhost:8080/",
          "height": 34
        },
        "outputId": "fa95e020-8614-48c1-f155-e067ffa06706"
      },
      "source": [
        "options = 'red yellow blue white black green purple'.split()\n",
        "options"
      ],
      "execution_count": 25,
      "outputs": [
        {
          "output_type": "execute_result",
          "data": {
            "text/plain": [
              "['red', 'yellow', 'blue', 'white', 'black', 'green', 'purple']"
            ]
          },
          "metadata": {
            "tags": []
          },
          "execution_count": 25
        }
      ]
    },
    {
      "cell_type": "code",
      "metadata": {
        "id": "UjQuu_U7ywyS",
        "colab_type": "code",
        "colab": {}
      },
      "source": [
        "def create_select_options_gen(options=options):    \n",
        "    for option in options:\n",
        "        yield f'<option value={option}>{option.title()}</option>'"
      ],
      "execution_count": 0,
      "outputs": []
    },
    {
      "cell_type": "code",
      "metadata": {
        "id": "_A6KHGOZzAEN",
        "colab_type": "code",
        "colab": {
          "base_uri": "https://localhost:8080/",
          "height": 34
        },
        "outputId": "940c5adc-39b8-4947-d2a5-9823cca6de1c"
      },
      "source": [
        "print(create_select_options_gen())"
      ],
      "execution_count": 28,
      "outputs": [
        {
          "output_type": "stream",
          "text": [
            "<generator object create_select_options_gen at 0x7f3d641f81a8>\n"
          ],
          "name": "stdout"
        }
      ]
    },
    {
      "cell_type": "code",
      "metadata": {
        "id": "J3RcmOZ0zovY",
        "colab_type": "code",
        "colab": {
          "base_uri": "https://localhost:8080/",
          "height": 134
        },
        "outputId": "1fb69ab5-2776-4612-df4f-0c16f7dc4fa2"
      },
      "source": [
        "list(create_select_options_gen())"
      ],
      "execution_count": 29,
      "outputs": [
        {
          "output_type": "execute_result",
          "data": {
            "text/plain": [
              "['<option value=red>Red</option>',\n",
              " '<option value=yellow>Yellow</option>',\n",
              " '<option value=blue>Blue</option>',\n",
              " '<option value=white>White</option>',\n",
              " '<option value=black>Black</option>',\n",
              " '<option value=green>Green</option>',\n",
              " '<option value=purple>Purple</option>']"
            ]
          },
          "metadata": {
            "tags": []
          },
          "execution_count": 29
        }
      ]
    }
  ]
}
