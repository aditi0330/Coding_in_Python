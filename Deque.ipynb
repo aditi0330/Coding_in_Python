{
  "nbformat": 4,
  "nbformat_minor": 0,
  "metadata": {
    "colab": {
      "name": "Untitled3.ipynb",
      "provenance": []
    },
    "kernelspec": {
      "name": "python3",
      "display_name": "Python 3"
    }
  },
  "cells": [
    {
      "cell_type": "markdown",
      "metadata": {
        "id": "sihVNURe6_pB",
        "colab_type": "text"
      },
      "source": [
        "Deques are a generalisation of stacks and queues (the name is pronounced “deck” and is short for “double-ended queue”). Deques support thread-safe, memory efficient appends and pops from either side of the deque with approximately the same O(1) performance in either direction. "
      ]
    },
    {
      "cell_type": "code",
      "metadata": {
        "id": "A8-DeIFs7ofc",
        "colab_type": "code",
        "colab": {}
      },
      "source": [
        "from collections import deque\n",
        "import csv\n",
        "import random\n",
        "from urllib.request import urlretrieve"
      ],
      "execution_count": 0,
      "outputs": []
    },
    {
      "cell_type": "code",
      "metadata": {
        "id": "HPBMWK077NLj",
        "colab_type": "code",
        "colab": {}
      },
      "source": [
        "lst = list(range(10000000))\n",
        "deq = deque(range(10000000))"
      ],
      "execution_count": 0,
      "outputs": []
    },
    {
      "cell_type": "markdown",
      "metadata": {
        "id": "x9m-t7uD762J",
        "colab_type": "text"
      },
      "source": [
        "Let's do some removing and inserting at random locations in the sequence, a list is slow at this because it needs to move all adjacent around. Here is where deque is a big win:"
      ]
    },
    {
      "cell_type": "code",
      "metadata": {
        "id": "S3he4bzb7-Sj",
        "colab_type": "code",
        "colab": {
          "base_uri": "https://localhost:8080/",
          "height": 50
        },
        "outputId": "f50e7a60-8cf9-425b-df85-0d624fb5008f"
      },
      "source": [
        "def insert_and_delete(ds):\n",
        "    for _ in range(10):\n",
        "        index = random.choice(range(100))\n",
        "        ds.remove(index)\n",
        "        ds.insert(index, index)\n",
        "\n",
        "%timeit insert_and_delete(lst)\n",
        "\n",
        "%timeit insert_and_delete(deq)"
      ],
      "execution_count": 4,
      "outputs": [
        {
          "output_type": "stream",
          "text": [
            "10 loops, best of 3: 174 ms per loop\n",
            "10000 loops, best of 3: 24.2 µs per loop\n"
          ],
          "name": "stdout"
        }
      ]
    }
  ]
}
