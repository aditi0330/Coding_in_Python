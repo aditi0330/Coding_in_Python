
{
  "nbformat": 4,
  "nbformat_minor": 0,
  "metadata": {
    "colab": {
      "name": "Untitled2.ipynb",
      "provenance": []
    },
    "kernelspec": {
      "name": "python3",
      "display_name": "Python 3"
    }
  },
  "cells": [
    {
      "cell_type": "code",
      "metadata": {
        "id": "9TJzUEawwhM-",
        "colab_type": "code",
        "colab": {}
      },
      "source": [
        "from collections import Counter\n",
        "import csv\n",
        "import random\n",
        "from urllib.request import urlretrieve"
      ],
      "execution_count": 0,
      "outputs": []
    },
    {
      "cell_type": "code",
      "metadata": {
        "id": "RZLlugW5w6ts",
        "colab_type": "code",
        "colab": {
          "base_uri": "https://localhost:8080/",
          "height": 34
        },
        "outputId": "c3d13e08-abff-45f3-ea49-1bc60e7e752c"
      },
      "source": [
        "words = \"\"\"Lorem Ipsum is simply dummy text of the printing and typesetting industry. Lorem Ipsum has been \n",
        "the industry's standard dummy text ever since the 1500s, when an unknown printer took a galley of type and \n",
        "scrambled it to make a type specimen book. It has survived not only five centuries, but also the leap into \n",
        "electronic typesetting, remaining essentially unchanged. It was popularised in the 1960s with the release of\n",
        "Letraset sheets containing Lorem Ipsum passages, and more recently with desktop publishing software like Aldus\n",
        "PageMaker including versions of Lorem Ipsum\"\"\".split()\n",
        "words[:5]"
      ],
      "execution_count": 2,
      "outputs": [
        {
          "output_type": "execute_result",
          "data": {
            "text/plain": [
              "['Lorem', 'Ipsum', 'is', 'simply', 'dummy']"
            ]
          },
          "metadata": {
            "tags": []
          },
          "execution_count": 2
        }
      ]
    },
    {
      "cell_type": "markdown",
      "metadata": {
        "id": "P25vge-vxAps",
        "colab_type": "text"
      },
      "source": [
        "Before getting to know collections, I would have written something like this:"
      ]
    },
    {
      "cell_type": "code",
      "metadata": {
        "id": "7obx962HxFgC",
        "colab_type": "code",
        "colab": {
          "base_uri": "https://localhost:8080/",
          "height": 101
        },
        "outputId": "6be03cc5-0f41-4faa-aa7f-80ed6f8f04ca"
      },
      "source": [
        "common_words = {}\n",
        "\n",
        "for word in words:\n",
        "    if word not in common_words:\n",
        "        common_words[word] = 0\n",
        "    common_words[word] += 1\n",
        "\n",
        "# sort dict by values descending and slice first 5 to get most common\n",
        "for k, v in sorted(common_words.items(),\n",
        "                   key=lambda x: x[1],\n",
        "                   reverse=True)[:5]:\n",
        "    print(k ,v)"
      ],
      "execution_count": 3,
      "outputs": [
        {
          "output_type": "stream",
          "text": [
            "the 6\n",
            "Lorem 4\n",
            "Ipsum 4\n",
            "of 4\n",
            "and 3\n"
          ],
          "name": "stdout"
        }
      ]
    },
    {
      "cell_type": "markdown",
      "metadata": {
        "id": "iaQnWVRpxc7c",
        "colab_type": "text"
      },
      "source": [
        "Now, let us compare this to using Counter and its most_common method:"
      ]
    },
    {
      "cell_type": "code",
      "metadata": {
        "id": "UrRpZlE1xibz",
        "colab_type": "code",
        "colab": {
          "base_uri": "https://localhost:8080/",
          "height": 34
        },
        "outputId": "6a90c25b-9741-444d-a7de-9274b39c9a03"
      },
      "source": [
        "Counter(words).most_common(5)"
      ],
      "execution_count": 4,
      "outputs": [
        {
          "output_type": "execute_result",
          "data": {
            "text/plain": [
              "[('the', 6), ('Lorem', 4), ('Ipsum', 4), ('of', 4), ('and', 3)]"
            ]
          },
          "metadata": {
            "tags": []
          },
          "execution_count": 4
        }
      ]
    },
    {
      "cell_type": "markdown",
      "metadata": {
        "id": "LxOwtMVLxuYc",
        "colab_type": "text"
      },
      "source": [
        "Collections is a container datatype from the Python standard library."
      ]
    }
  ]
}
