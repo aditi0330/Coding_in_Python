{
  "nbformat": 4,
  "nbformat_minor": 0,
  "metadata": {
    "colab": {
      "name": "tuple_dict.ipynb",
      "provenance": [],
      "collapsed_sections": []
    },
    "kernelspec": {
      "name": "python3",
      "display_name": "Python 3"
    }
  },
  "cells": [
    {
      "cell_type": "markdown",
      "metadata": {
        "id": "A5WpHMQ3YRMr",
        "colab_type": "text"
      },
      "source": [
        "1. **namedtuple**"
      ]
    },
    {
      "cell_type": "code",
      "metadata": {
        "id": "7SS89AUoWokZ",
        "colab_type": "code",
        "colab": {}
      },
      "source": [
        "from collections import defaultdict, namedtuple, Counter, deque\n",
        "import csv\n",
        "import random\n",
        "from urllib.request import urlretrieve"
      ],
      "execution_count": 0,
      "outputs": []
    },
    {
      "cell_type": "markdown",
      "metadata": {
        "id": "jzCpFqWmXBUg",
        "colab_type": "text"
      },
      "source": [
        "A namedtuple is a very convenient way to define a class without methods. This allows you to store dict like objects you can access by attributes. Let's first look at a classic tuple:"
      ]
    },
    {
      "cell_type": "code",
      "metadata": {
        "id": "Md2aQcXhXDCe",
        "colab_type": "code",
        "colab": {
          "base_uri": "https://localhost:8080/",
          "height": 34
        },
        "outputId": "dec674ed-fc04-444f-a968-7c18ed375136"
      },
      "source": [
        "\n",
        "user = ('bob', 'coder')\n",
        "\n",
        "f'{user[0]} is a {user[1]}'"
      ],
      "execution_count": 2,
      "outputs": [
        {
          "output_type": "execute_result",
          "data": {
            "text/plain": [
              "'bob is a coder'"
            ]
          },
          "metadata": {
            "tags": []
          },
          "execution_count": 2
        }
      ]
    },
    {
      "cell_type": "code",
      "metadata": {
        "id": "szJoZYwgXS8A",
        "colab_type": "code",
        "colab": {}
      },
      "source": [
        "User = namedtuple('User', 'name role')"
      ],
      "execution_count": 0,
      "outputs": []
    },
    {
      "cell_type": "markdown",
      "metadata": {
        "id": "vFGHc-F6XcXV",
        "colab_type": "text"
      },
      "source": [
        "We can directly see that the object has a name and role:"
      ]
    },
    {
      "cell_type": "code",
      "metadata": {
        "id": "8hHzrXd3XgDm",
        "colab_type": "code",
        "colab": {}
      },
      "source": [
        "\n",
        "user = User(name='bob', role='coder')"
      ],
      "execution_count": 0,
      "outputs": []
    },
    {
      "cell_type": "code",
      "metadata": {
        "id": "2is2FEUhX41D",
        "colab_type": "code",
        "colab": {
          "base_uri": "https://localhost:8080/",
          "height": 34
        },
        "outputId": "a09f37a2-e6ce-4e0a-8c72-9b3720c55714"
      },
      "source": [
        "user.name"
      ],
      "execution_count": 6,
      "outputs": [
        {
          "output_type": "execute_result",
          "data": {
            "text/plain": [
              "'bob'"
            ]
          },
          "metadata": {
            "tags": []
          },
          "execution_count": 6
        }
      ]
    },
    {
      "cell_type": "code",
      "metadata": {
        "id": "JEeGYNf5X8ou",
        "colab_type": "code",
        "colab": {
          "base_uri": "https://localhost:8080/",
          "height": 34
        },
        "outputId": "22d8bd15-f846-4dec-db7a-e9cc2cebd5fa"
      },
      "source": [
        "user.role"
      ],
      "execution_count": 7,
      "outputs": [
        {
          "output_type": "execute_result",
          "data": {
            "text/plain": [
              "'coder'"
            ]
          },
          "metadata": {
            "tags": []
          },
          "execution_count": 7
        }
      ]
    },
    {
      "cell_type": "code",
      "metadata": {
        "id": "iudKPtE_YD49",
        "colab_type": "code",
        "colab": {
          "base_uri": "https://localhost:8080/",
          "height": 34
        },
        "outputId": "17ab86fa-8fc3-42dc-fd1c-335433965bd6"
      },
      "source": [
        "f'{user.name} is a {user.role}'"
      ],
      "execution_count": 8,
      "outputs": [
        {
          "output_type": "execute_result",
          "data": {
            "text/plain": [
              "'bob is a coder'"
            ]
          },
          "metadata": {
            "tags": []
          },
          "execution_count": 8
        }
      ]
    },
    {
      "cell_type": "markdown",
      "metadata": {
        "id": "jHqBj7bwYX2F",
        "colab_type": "text"
      },
      "source": [
        "2. **defaultdict**"
      ]
    },
    {
      "cell_type": "code",
      "metadata": {
        "id": "ZHjHirkVYf5U",
        "colab_type": "code",
        "colab": {}
      },
      "source": [
        "users = {'bob': 'coder'}\n"
      ],
      "execution_count": 0,
      "outputs": []
    },
    {
      "cell_type": "code",
      "metadata": {
        "id": "CEuVb0XmYsMF",
        "colab_type": "code",
        "colab": {
          "base_uri": "https://localhost:8080/",
          "height": 34
        },
        "outputId": "e61e7219-0b7d-4964-b903-eacc98bf5110"
      },
      "source": [
        "\n",
        "users.get('bob')"
      ],
      "execution_count": 11,
      "outputs": [
        {
          "output_type": "execute_result",
          "data": {
            "text/plain": [
              "'coder'"
            ]
          },
          "metadata": {
            "tags": []
          },
          "execution_count": 11
        }
      ]
    },
    {
      "cell_type": "code",
      "metadata": {
        "id": "NAyXeNjRY_bu",
        "colab_type": "code",
        "colab": {
          "base_uri": "https://localhost:8080/",
          "height": 34
        },
        "outputId": "df478308-c9f5-47ba-daf0-b46d92365478"
      },
      "source": [
        "users.get('julian') is None"
      ],
      "execution_count": 12,
      "outputs": [
        {
          "output_type": "execute_result",
          "data": {
            "text/plain": [
              "True"
            ]
          },
          "metadata": {
            "tags": []
          },
          "execution_count": 12
        }
      ]
    },
    {
      "cell_type": "markdown",
      "metadata": {
        "id": "AY0UmN_qYuMM",
        "colab_type": "text"
      },
      "source": [
        "Now let's make a dict from the following list of tuples:"
      ]
    },
    {
      "cell_type": "code",
      "metadata": {
        "id": "trCo2bzjZKdt",
        "colab_type": "code",
        "colab": {
          "base_uri": "https://localhost:8080/",
          "height": 118
        },
        "outputId": "36529fa6-8e6e-4191-f24d-760e962905cc"
      },
      "source": [
        "challenges_done = [('mike', 10), ('julian', 7), ('bob', 5),\n",
        "                   ('mike', 11), ('julian', 8), ('bob', 6)]\n",
        "challenges_done"
      ],
      "execution_count": 13,
      "outputs": [
        {
          "output_type": "execute_result",
          "data": {
            "text/plain": [
              "[('mike', 10),\n",
              " ('julian', 7),\n",
              " ('bob', 5),\n",
              " ('mike', 11),\n",
              " ('julian', 8),\n",
              " ('bob', 6)]"
            ]
          },
          "metadata": {
            "tags": []
          },
          "execution_count": 13
        }
      ]
    },
    {
      "cell_type": "code",
      "metadata": {
        "id": "RQKrBqSzZTWU",
        "colab_type": "code",
        "colab": {
          "base_uri": "https://localhost:8080/",
          "height": 34
        },
        "outputId": "8fc8ecc2-b044-431b-85bd-8838b9373cd1"
      },
      "source": [
        "challenges = defaultdict(list)\n",
        "for name, challenge in challenges_done:\n",
        "    challenges[name].append(challenge)\n",
        "\n",
        "challenges"
      ],
      "execution_count": 14,
      "outputs": [
        {
          "output_type": "execute_result",
          "data": {
            "text/plain": [
              "defaultdict(list, {'bob': [5, 6], 'julian': [7, 8], 'mike': [10, 11]})"
            ]
          },
          "metadata": {
            "tags": []
          },
          "execution_count": 14
        }
      ]
    }
  ]
}
