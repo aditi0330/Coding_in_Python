{
  "nbformat": 4,
  "nbformat_minor": 0,
  "metadata": {
    "colab": {
      "name": "Regex.ipynb",
      "provenance": []
    },
    "kernelspec": {
      "name": "python3",
      "display_name": "Python 3"
    }
  },
  "cells": [
    {
      "cell_type": "markdown",
      "metadata": {
        "id": "XMM9E3znALko",
        "colab_type": "text"
      },
      "source": [
        "**Regular Expressions in Python**"
      ]
    },
    {
      "cell_type": "code",
      "metadata": {
        "id": "emRJYlUO_9O8",
        "colab_type": "code",
        "colab": {}
      },
      "source": [
        "import re\n",
        "text = 'Awesome, I am doing coding challenges in Python'"
      ],
      "execution_count": 0,
      "outputs": []
    },
    {
      "cell_type": "code",
      "metadata": {
        "id": "CqapT0dABgeg",
        "colab_type": "code",
        "colab": {
          "base_uri": "https://localhost:8080/",
          "height": 34
        },
        "outputId": "d72b2bc4-90c4-4038-d0b4-ccb5e3d655f9"
      },
      "source": [
        "text.startswith('Awesome')"
      ],
      "execution_count": 2,
      "outputs": [
        {
          "output_type": "execute_result",
          "data": {
            "text/plain": [
              "True"
            ]
          },
          "metadata": {
            "tags": []
          },
          "execution_count": 2
        }
      ]
    },
    {
      "cell_type": "code",
      "metadata": {
        "id": "yEB6wf6UBjB-",
        "colab_type": "code",
        "colab": {
          "base_uri": "https://localhost:8080/",
          "height": 34
        },
        "outputId": "9a571a9d-4494-4536-9b79-371d32025abf"
      },
      "source": [
        "text.endswith('challenge')"
      ],
      "execution_count": 3,
      "outputs": [
        {
          "output_type": "execute_result",
          "data": {
            "text/plain": [
              "False"
            ]
          },
          "metadata": {
            "tags": []
          },
          "execution_count": 3
        }
      ]
    },
    {
      "cell_type": "code",
      "metadata": {
        "id": "XTXTn0x5Br8x",
        "colab_type": "code",
        "colab": {
          "base_uri": "https://localhost:8080/",
          "height": 34
        },
        "outputId": "133200a6-98a6-4f47-8bf5-f6e2dccb27b2"
      },
      "source": [
        "'coding' in text.lower()"
      ],
      "execution_count": 4,
      "outputs": [
        {
          "output_type": "execute_result",
          "data": {
            "text/plain": [
              "True"
            ]
          },
          "metadata": {
            "tags": []
          },
          "execution_count": 4
        }
      ]
    },
    {
      "cell_type": "code",
      "metadata": {
        "id": "mTCRUQyKBy4O",
        "colab_type": "code",
        "colab": {
          "base_uri": "https://localhost:8080/",
          "height": 34
        },
        "outputId": "d681e8e3-18dc-477f-a3bd-7545cc975396"
      },
      "source": [
        "text.replace('Awesome', 'Great')"
      ],
      "execution_count": 5,
      "outputs": [
        {
          "output_type": "execute_result",
          "data": {
            "text/plain": [
              "'Great, I am doing coding challenges in Python'"
            ]
          },
          "metadata": {
            "tags": []
          },
          "execution_count": 5
        }
      ]
    },
    {
      "cell_type": "markdown",
      "metadata": {
        "id": "wRO8icYLCDOP",
        "colab_type": "text"
      },
      "source": [
        "**search vs match**\n",
        "\n",
        "The main methods you want to know about are search and match, former matches a substring, latter matches the string from beginning to end. I always embed my regex in r'' to avoid having to escape special characters like \\d (digit), \\w (char), \\s (space), \\S (non-space), etc (I think \\\\d and \\\\s clutters up the regex)"
      ]
    },
    {
      "cell_type": "code",
      "metadata": {
        "id": "mDWZklzsCFwo",
        "colab_type": "code",
        "colab": {}
      },
      "source": [
        "text = 'Awesome, I am doing coding challenges in Python'"
      ],
      "execution_count": 0,
      "outputs": []
    },
    {
      "cell_type": "code",
      "metadata": {
        "id": "bss15KLNCtvG",
        "colab_type": "code",
        "colab": {
          "base_uri": "https://localhost:8080/",
          "height": 34
        },
        "outputId": "888149e6-4abc-466a-990d-3924682bed36"
      },
      "source": [
        "re.search(r'I am', text)"
      ],
      "execution_count": 7,
      "outputs": [
        {
          "output_type": "execute_result",
          "data": {
            "text/plain": [
              "<_sre.SRE_Match object; span=(9, 13), match='I am'>"
            ]
          },
          "metadata": {
            "tags": []
          },
          "execution_count": 7
        }
      ]
    },
    {
      "cell_type": "code",
      "metadata": {
        "id": "2P2E4JvCCzMp",
        "colab_type": "code",
        "colab": {}
      },
      "source": [
        "re.match(r'I am', text)"
      ],
      "execution_count": 0,
      "outputs": []
    },
    {
      "cell_type": "code",
      "metadata": {
        "id": "jbPz_A0SC7RD",
        "colab_type": "code",
        "colab": {
          "base_uri": "https://localhost:8080/",
          "height": 34
        },
        "outputId": "d0f55d14-236c-4334-b143-dacf03043d64"
      },
      "source": [
        "re.match(r'Awesome.*challenges', text)"
      ],
      "execution_count": 10,
      "outputs": [
        {
          "output_type": "execute_result",
          "data": {
            "text/plain": [
              "<_sre.SRE_Match object; span=(0, 37), match='Awesome, I am doing coding challenges'>"
            ]
          },
          "metadata": {
            "tags": []
          },
          "execution_count": 10
        }
      ]
    },
    {
      "cell_type": "markdown",
      "metadata": {
        "id": "VH8whGusDCeI",
        "colab_type": "text"
      },
      "source": [
        "**Capturing strings**\n",
        "\n",
        "A common task is to retrieve a match, you can use capturing () parenthesis for that:"
      ]
    },
    {
      "cell_type": "code",
      "metadata": {
        "id": "S7Zab0_CDFhJ",
        "colab_type": "code",
        "colab": {}
      },
      "source": [
        "one = 'Awesome, I am doing coding challenges'\n",
        "two = 'Awesome, I am doing coding challenges'\n",
        "\n",
        "m = re.match(r'.*(#\\d+DaysOfCode).*', hundred)\n",
        "m.groups()[0]"
      ],
      "execution_count": 0,
      "outputs": []
    }
  ]
}